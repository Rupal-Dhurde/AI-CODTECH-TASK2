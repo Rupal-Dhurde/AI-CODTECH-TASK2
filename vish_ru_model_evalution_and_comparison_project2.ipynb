{
  "cells": [
    {
      "cell_type": "markdown",
      "metadata": {
        "id": "view-in-github",
        "colab_type": "text"
      },
      "source": [
        "<a href=\"https://colab.research.google.com/github/Rupal-Dhurde/AI-CODTECH-TASK2/blob/main/vish_ru_model_evalution_and_comparison_project2.ipynb\" target=\"_parent\"><img src=\"https://colab.research.google.com/assets/colab-badge.svg\" alt=\"Open In Colab\"/></a>"
      ]
    },
    {
      "cell_type": "markdown",
      "metadata": {
        "id": "o6I_4Io2swn2"
      },
      "source": [
        "IMPORTING LIBRARIES\n"
      ]
    },
    {
      "cell_type": "code",
      "execution_count": null,
      "metadata": {
        "id": "Iw9mSEzIswLe"
      },
      "outputs": [],
      "source": [
        "import numpy as np\n",
        "import pandas as pd\n",
        "import seaborn as sns\n",
        "from matplotlib import pyplot as plt\n",
        "import matplotlib.pyplot as plt"
      ]
    },
    {
      "cell_type": "markdown",
      "metadata": {
        "id": "DQd2Rv1Ns1VG"
      },
      "source": [
        "IMPORTING MODELS\n"
      ]
    },
    {
      "cell_type": "code",
      "execution_count": null,
      "metadata": {
        "id": "fyB2ItV-suC-"
      },
      "outputs": [],
      "source": [
        "from sklearn.model_selection import train_test_split, cross_val_score\n",
        "from sklearn.linear_model import LinearRegression\n",
        "from sklearn.tree import DecisionTreeRegressor\n",
        "from sklearn.ensemble import RandomForestRegressor\n",
        "from sklearn.metrics import mean_squared_error, r2_score"
      ]
    },
    {
      "cell_type": "code",
      "execution_count": null,
      "metadata": {
        "id": "VtRGAkXjtjAf"
      },
      "outputs": [],
      "source": [
        "# Load the dataset\n",
        "df = pd.read_csv(\"Housing.csv\")\n"
      ]
    },
    {
      "cell_type": "code",
      "execution_count": null,
      "metadata": {
        "id": "SxSqIoqHty-c"
      },
      "outputs": [],
      "source": [
        "df = pd.get_dummies(df, drop_first=True)"
      ]
    },
    {
      "cell_type": "code",
      "execution_count": null,
      "metadata": {
        "id": "CtbW2PMyt87Y"
      },
      "outputs": [],
      "source": [
        "X = df.drop('price', axis=1)\n",
        "y = df['price']"
      ]
    },
    {
      "cell_type": "code",
      "execution_count": null,
      "metadata": {
        "colab": {
          "base_uri": "https://localhost:8080/"
        },
        "id": "YKGQPpYit8q2",
        "outputId": "007da63b-5d40-4903-be30-bc892234c30d"
      },
      "outputs": [
        {
          "name": "stdout",
          "output_type": "stream",
          "text": [
            "<class 'pandas.core.frame.DataFrame'>\n",
            "RangeIndex: 545 entries, 0 to 544\n",
            "Data columns (total 14 columns):\n",
            " #   Column                           Non-Null Count  Dtype\n",
            "---  ------                           --------------  -----\n",
            " 0   price                            545 non-null    int64\n",
            " 1   area                             545 non-null    int64\n",
            " 2   bedrooms                         545 non-null    int64\n",
            " 3   bathrooms                        545 non-null    int64\n",
            " 4   stories                          545 non-null    int64\n",
            " 5   parking                          545 non-null    int64\n",
            " 6   mainroad_yes                     545 non-null    bool \n",
            " 7   guestroom_yes                    545 non-null    bool \n",
            " 8   basement_yes                     545 non-null    bool \n",
            " 9   hotwaterheating_yes              545 non-null    bool \n",
            " 10  airconditioning_yes              545 non-null    bool \n",
            " 11  prefarea_yes                     545 non-null    bool \n",
            " 12  furnishingstatus_semi-furnished  545 non-null    bool \n",
            " 13  furnishingstatus_unfurnished     545 non-null    bool \n",
            "dtypes: bool(8), int64(6)\n",
            "memory usage: 29.9 KB\n"
          ]
        }
      ],
      "source": [
        "df.info()"
      ]
    },
    {
      "cell_type": "code",
      "execution_count": null,
      "metadata": {
        "id": "ijc1P1KsuRym"
      },
      "outputs": [],
      "source": [
        "# Split the data into training and testing sets\n",
        "X_train, X_test, y_train, y_test = train_test_split(X, y, test_size=0.2, random_state=42)\n"
      ]
    },
    {
      "cell_type": "code",
      "execution_count": null,
      "metadata": {
        "id": "PcNGlm30uWeE"
      },
      "outputs": [],
      "source": [
        "# Initialize models\n",
        "models = {\n",
        "    'Linear Regression': LinearRegression(),\n",
        "    'Decision Tree': DecisionTreeRegressor(random_state=42),\n",
        "    'Random Forest': RandomForestRegressor(random_state=42)\n",
        "}"
      ]
    },
    {
      "cell_type": "code",
      "execution_count": null,
      "metadata": {
        "id": "GDQ8qQbkubwE"
      },
      "outputs": [],
      "source": [
        "# Train and evaluate models\n",
        "results = {}\n",
        "for model_name, model in models.items():\n",
        "    model.fit(X_train, y_train)\n",
        "    y_pred = model.predict(X_test)\n",
        "    mse = mean_squared_error(y_test, y_pred)\n",
        "    r2 = r2_score(y_test, y_pred)\n",
        "    results[model_name] = {'MSE': mse, 'R²': r2}\n"
      ]
    },
    {
      "cell_type": "code",
      "execution_count": null,
      "metadata": {
        "colab": {
          "base_uri": "https://localhost:8080/",
          "height": 561
        },
        "collapsed": true,
        "id": "KVD1AzqsufZk",
        "outputId": "a0f722f2-98cb-423f-ba70-8af46ed5b5d9"
      },
      "outputs": [
        {
          "name": "stdout",
          "output_type": "stream",
          "text": [
            "Linear Regression - MSE: 1754318687330.6638, R²: 0.6529\n",
            "Decision Tree - MSE: 2642802637614.6787, R²: 0.4771\n",
            "Random Forest - MSE: 1961585044320.3433, R²: 0.6119\n"
          ]
        },
        {
          "data": {
            "image/png": "[encoded data removed]",
            "text/plain": [
              "<Figure size 1000x500 with 2 Axes>"
            ]
          },
          "metadata": {},
          "output_type": "display_data"
        }
      ],
      "source": [
        "# Display results\n",
        "for model_name, metrics in results.items():\n",
        "    print(f\"{model_name} - MSE: {metrics['MSE']:.4f}, R²: {metrics['R²']:.4f}\")\n",
        "\n",
        "# Plotting the results\n",
        "mse_values = [metrics['MSE'] for metrics in results.values()]\n",
        "r2_values = [metrics['R²'] for metrics in results.values()]\n",
        "model_names = list(results.keys())\n",
        "\n",
        "plt.figure(figsize=(10, 5))\n",
        "\n",
        "plt.subplot(1, 2, 1)\n",
        "plt.barh(model_names, mse_values, color='skyblue')\n",
        "plt.xlabel('MSE')\n",
        "plt.title('Model Comparison - MSE')\n",
        "\n",
        "plt.subplot(1, 2, 2)\n",
        "plt.barh(model_names, r2_values, color='lightgreen')\n",
        "plt.xlabel('R²')\n",
        "plt.title('Model Comparison - R²')\n",
        "\n",
        "plt.tight_layout()\n",
        "plt.show()"
      ]
    },
    {
      "cell_type": "code",
      "execution_count": null,
      "metadata": {
        "id": "hV1zFxvyu5n0"
      },
      "outputs": [],
      "source": [
        "from sklearn.svm import SVR\n",
        "from sklearn.neighbors import KNeighborsRegressor\n",
        "from sklearn.ensemble import GradientBoostingRegressor\n",
        "\n",
        "# Adding more models\n",
        "models.update({\n",
        "    'Support Vector Regression': SVR(),\n",
        "    'K-Nearest Neighbors': KNeighborsRegressor(),\n",
        "    'Gradient Boosting': GradientBoostingRegressor(random_state=42)\n",
        "})\n",
        "\n",
        "# Train and evaluate the updated set of models\n",
        "results = {}\n",
        "for model_name, model in models.items():\n",
        "    model.fit(X_train, y_train)\n",
        "    y_pred = model.predict(X_test)\n",
        "    mse = mean_squared_error(y_test, y_pred)\n",
        "    r2 = r2_score(y_test, y_pred)\n",
        "    results[model_name] = {'MSE': mse, 'R²': r2}\n",
        "\n",
        "# Display and visualize the updated results\n",
        "# (This part of the code remains the same as the previous example)\n"
      ]
    },
    {
      "cell_type": "code",
      "execution_count": null,
      "metadata": {
        "colab": {
          "background_save": true
        },
        "id": "3athSQqLvN9d",
        "outputId": "7ddff7d9-5941-413e-be21-4b00e5f12aef"
      },
      "outputs": [
        {
          "name": "stdout",
          "output_type": "stream",
          "text": [
            "Tuned Random Forest - MSE: 2086283679357.3230, R²: 0.5872\n"
          ]
        }
      ],
      "source": [
        "from sklearn.model_selection import GridSearchCV\n",
        "\n",
        "# Example: Hyperparameter tuning for Random Forest\n",
        "param_grid = {\n",
        "    'n_estimators': [100, 200, 300],\n",
        "    'max_depth': [None, 10, 20, 30],\n",
        "    'min_samples_split': [2, 5, 10]\n",
        "}\n",
        "\n",
        "grid_search = GridSearchCV(RandomForestRegressor(random_state=42), param_grid, cv=5, scoring='neg_mean_squared_error')\n",
        "grid_search.fit(X_train, y_train)\n",
        "\n",
        "best_rf_model = grid_search.best_estimator_\n",
        "\n",
        "# Evaluate the tuned model\n",
        "y_pred = best_rf_model.predict(X_test)\n",
        "mse = mean_squared_error(y_test, y_pred)\n",
        "r2 = r2_score(y_test, y_pred)\n",
        "results['Tuned Random Forest'] = {'MSE': mse, 'R²': r2}\n",
        "\n",
        "print(f\"Tuned Random Forest - MSE: {mse:.4f}, R²: {r2:.4f}\")\n"
      ]
    },
    {
      "cell_type": "code",
      "execution_count": null,
      "metadata": {
        "colab": {
          "background_save": true
        },
        "id": "P081Pt-yvdI3",
        "outputId": "198604db-9a3e-4e7a-c9bb-c1f7867ddc66"
      },
      "outputs": [
        {
          "name": "stderr",
          "output_type": "stream",
          "text": [
            "<ipython-input-25-f373588a55b0>:11: FutureWarning: \n",
            "\n",
            "Passing `palette` without assigning `hue` is deprecated and will be removed in v0.14.0. Assign the `y` variable to `hue` and set `legend=False` for the same effect.\n",
            "\n",
            "  sns.barplot(x='MSE', y='Model', data=results_df, palette='Blues_d')\n",
            "<ipython-input-25-f373588a55b0>:16: FutureWarning: \n",
            "\n",
            "Passing `palette` without assigning `hue` is deprecated and will be removed in v0.14.0. Assign the `y` variable to `hue` and set `legend=False` for the same effect.\n",
            "\n",
            "  sns.barplot(x='R²', y='Model', data=results_df, palette='Greens_d')\n"
          ]
        },
        {
          "data": {
            "image/png": "[encoded data removed]",
            "text/plain": [
              "<Figure size 1400x600 with 2 Axes>"
            ]
          },
          "metadata": {},
          "output_type": "display_data"
        }
      ],
      "source": [
        "import seaborn as sns\n",
        "\n",
        "# Convert the results dictionary to a DataFrame for easier plotting\n",
        "results_df = pd.DataFrame(results).T.reset_index()\n",
        "results_df = results_df.rename(columns={'index': 'Model'})\n",
        "\n",
        "# Plotting MSE and R² side by side\n",
        "plt.figure(figsize=(14, 6))\n",
        "\n",
        "plt.subplot(1, 2, 1)\n",
        "sns.barplot(x='MSE', y='Model', data=results_df, palette='Blues_d')\n",
        "plt.title('Model Comparison - MSE')\n",
        "plt.xlabel('Mean Squared Error')\n",
        "\n",
        "plt.subplot(1, 2, 2)\n",
        "sns.barplot(x='R²', y='Model', data=results_df, palette='Greens_d')\n",
        "plt.title('Model Comparison - R²')\n",
        "plt.xlabel('R² Score')\n",
        "\n",
        "plt.tight_layout()\n",
        "plt.show()\n"
      ]
    },
    {
      "cell_type": "code",
      "execution_count": null,
      "metadata": {
        "colab": {
          "base_uri": "https://localhost:8080/"
        },
        "id": "Hjb1kKDOvdCU",
        "outputId": "b733ebbe-cd5f-4bf2-b80d-8e4f31a0f421"
      },
      "outputs": [
        {
          "data": {
            "text/plain": [
              "array([5133817.90795277, 7148800.06790187, 3664056.37199307,\n",
              "       4549419.83023668, 4080886.18792375, 3626854.85701832,\n",
              "       5081009.32933407, 5134847.06444384, 2799884.52319948,\n",
              "       2974344.69623018, 9818511.54216783, 3219162.62802842,\n",
              "       3180860.78800067, 3382528.83947253, 3776412.13302209,\n",
              "       3878902.03677693, 3371778.77065148, 4885776.91020065,\n",
              "       3924692.12696806, 4203919.33867882, 5199161.45324283,\n",
              "       5923718.03031446, 3000930.5413533 , 3817572.35805814,\n",
              "       4710994.67097204, 6537269.15438914, 3191338.22611865,\n",
              "       4516317.17782194, 6290508.89120161, 3402621.59021274,\n",
              "       5523684.00138951, 3115029.89839019, 6696065.95860208,\n",
              "       4443414.00775858, 3137992.34116925, 6208516.12877074,\n",
              "       4753152.7587093 , 3633400.74702671, 3244571.3252888 ,\n",
              "       4257482.08487583, 4330119.46872361, 3028989.41981969,\n",
              "       7200139.0935429 , 4217885.53133798, 4114155.18627241,\n",
              "       4334870.76272264, 6844189.57112362, 4157565.15678822,\n",
              "       3599422.40752338, 3179075.03198844, 7878383.32954155,\n",
              "       2721192.58749378, 4235030.94444234, 4406477.93631793,\n",
              "       3420769.14361835, 3032414.25674711, 6798109.95707688,\n",
              "       2904796.95625762, 5310508.22679282, 3050461.14541733,\n",
              "       3931353.90539019, 3672161.64717579, 4681503.61916468,\n",
              "       4534637.14270305, 3843959.6442022 , 4717238.208524  ,\n",
              "       6568659.1071964 , 3158732.13030459, 6685888.0451842 ,\n",
              "       5015919.52070479, 4059967.48017505, 5547215.78861579,\n",
              "       4603730.15329197, 7600696.8870314 , 3158104.25376052,\n",
              "       5412176.2277793 , 4240078.57171672, 4577384.33736117,\n",
              "       4712336.63842973, 4477834.54044744, 8288850.08672334,\n",
              "       4256480.91041603, 5422785.17617867, 5840041.47431327,\n",
              "       3010532.99809298, 5483708.22108814, 2832465.62706391,\n",
              "       4033530.89267838, 8338639.63290633, 8734788.80349045,\n",
              "       3354774.54019808, 5451046.61928465, 3772695.32233441,\n",
              "       3661543.14543369, 9551777.52668106, 4323127.18718165,\n",
              "       5094242.15982792, 6278523.09002234, 4300269.27264638,\n",
              "       6224301.30189908, 4267645.49182979, 6395518.81826487,\n",
              "       3879109.30883656, 4231720.84685475, 6405708.055576  ,\n",
              "       5582254.14110105, 7261382.84049676, 7256612.79256227,\n",
              "       6431478.16481329])"
            ]
          },
          "execution_count": 21,
          "metadata": {},
          "output_type": "execute_result"
        }
      ],
      "source": [
        "import joblib\n",
        "\n",
        "# Save the model\n",
        "joblib.dump(best_rf_model, 'best_random_forest_model.pkl')\n",
        "\n",
        "# Load the model\n",
        "loaded_model = joblib.load('best_random_forest_model.pkl')\n",
        "\n",
        "# Make predictions with the loaded model\n",
        "loaded_model.predict(X_test)\n"
      ]
    },
    {
      "cell_type": "code",
      "execution_count": null,
      "metadata": {
        "colab": {
          "base_uri": "https://localhost:8080/"
        },
        "id": "E2odtRxlwIHU",
        "outputId": "eec1fd4f-de45-4134-b771-f9218b73122e"
      },
      "outputs": [
        {
          "name": "stdout",
          "output_type": "stream",
          "text": [
            "Linear Regression - MSE: 1754318687330.6638, MAE: 970043.4039, R²: 0.6529\n",
            "Decision Tree - MSE: 2642802637614.6787, MAE: 1195266.0550, R²: 0.4771\n",
            "Random Forest - MSE: 1961585044320.3433, MAE: 1021546.0353, R²: 0.6119\n",
            "Support Vector Regression - MSE: 5567932366409.7832, MAE: 1763890.2922, R²: -0.1016\n",
            "K-Nearest Neighbors - MSE: 3213839804128.4404, MAE: 1296547.7064, R²: 0.3642\n",
            "Gradient Boosting - MSE: 1688403924777.5098, MAE: 959748.9636, R²: 0.6660\n"
          ]
        }
      ],
      "source": [
        "from sklearn.metrics import mean_absolute_error\n",
        "\n",
        "# Detailed report for each model\n",
        "for model_name, model in models.items():\n",
        "    y_pred = model.predict(X_test)\n",
        "    mse = mean_squared_error(y_test, y_pred)\n",
        "    r2 = r2_score(y_test, y_pred)\n",
        "    mae = mean_absolute_error(y_test, y_pred)\n",
        "    print(f\"{model_name} - MSE: {mse:.4f}, MAE: {mae:.4f}, R²: {r2:.4f}\")\n"
      ]
    },
    {
      "cell_type": "code",
      "execution_count": null,
      "metadata": {
        "id": "pP3uXfnDw5Sf"
      },
      "outputs": [],
      "source": [
        "from sklearn.metrics import accuracy_score, r2_score, mean_squared_error, classification_report\n",
        "import numpy as np\n",
        "\n",
        "def evaluate_model(model, X_test, y_test, model_type='classification'):\n",
        "    \"\"\"\n",
        "    Evaluates the accuracy of a model depending on the type of task.\n",
        "\n",
        "    Parameters:\n",
        "    - model: Trained model to be evaluated.\n",
        "    - X_test: Features of the test set.\n",
        "    - y_test: True labels/values of the test set.\n",
        "    - model_type: Type of the model ('classification' or 'regression').\n",
        "\n",
        "    Returns:\n",
        "    - None. Prints out the evaluation metrics.\n",
        "    \"\"\"\n",
        "    y_pred = model.predict(X_test)\n",
        "\n",
        "    if model_type == 'classification':\n",
        "        accuracy = accuracy_score(y_test, y_pred)\n",
        "        print(f\"Accuracy: {accuracy:.4f}\")\n",
        "        print(\"\\nClassification Report:\\n\")\n",
        "        print(classification_report(y_test, y_pred))\n",
        "\n",
        "    elif model_type == 'regression':\n",
        "        r2 = r2_score(y_test, y_pred)\n",
        "        mse = mean_squared_error(y_test, y_pred)\n",
        "        print(f\"R² Score: {r2:.4f}\")\n",
        "        print(f\"Mean Squared Error: {mse:.4f}\")\n",
        "\n",
        "    else:\n",
        "        print(\"Invalid model type. Please choose 'classification' or 'regression'.\")\n",
        "\n",
        "\n"
      ]
    },
    {
      "cell_type": "code",
      "execution_count": null,
      "metadata": {
        "colab": {
          "base_uri": "https://localhost:8080/"
        },
        "id": "gftRYC8Kw9zT",
        "outputId": "64844a55-bbd2-44cb-e14b-5217206a8b7c"
      },
      "outputs": [
        {
          "name": "stdout",
          "output_type": "stream",
          "text": [
            "Accuracy: 0.0000\n",
            "\n",
            "Classification Report:\n",
            "\n",
            "              precision    recall  f1-score   support\n",
            "\n",
            "     1750000       0.00      0.00      0.00       1.0\n",
            "     1820000       0.00      0.00      0.00       1.0\n",
            "     1855000       0.00      0.00      0.00       0.0\n",
            "     1890000       0.00      0.00      0.00       2.0\n",
            "     2100000       0.00      0.00      0.00       1.0\n",
            "     2233000       0.00      0.00      0.00       1.0\n",
            "     2275000       0.00      0.00      0.00       1.0\n",
            "     2380000       0.00      0.00      0.00       1.0\n",
            "     2450000       0.00      0.00      0.00       2.0\n",
            "     2520000       0.00      0.00      0.00       1.0\n",
            "     2653000       0.00      0.00      0.00       0.0\n",
            "     2660000       0.00      0.00      0.00       4.0\n",
            "     2730000       0.00      0.00      0.00       0.0\n",
            "     2800000       0.00      0.00      0.00       1.0\n",
            "     2870000       0.00      0.00      0.00       1.0\n",
            "     2940000       0.00      0.00      0.00       2.0\n",
            "     2961000       0.00      0.00      0.00       0.0\n",
            "     2975000       0.00      0.00      0.00       0.0\n",
            "     3003000       0.00      0.00      0.00       1.0\n",
            "     3010000       0.00      0.00      0.00       1.0\n",
            "     3045000       0.00      0.00      0.00       1.0\n",
            "     3080000       0.00      0.00      0.00       2.0\n",
            "     3115000       0.00      0.00      0.00       0.0\n",
            "     3150000       0.00      0.00      0.00       1.0\n",
            "     3220000       0.00      0.00      0.00       1.0\n",
            "     3234000       0.00      0.00      0.00       1.0\n",
            "     3290000       0.00      0.00      0.00       1.0\n",
            "     3325000       0.00      0.00      0.00       1.0\n",
            "     3353000       0.00      0.00      0.00       1.0\n",
            "     3360000       0.00      0.00      0.00       2.0\n",
            "     3430000       0.00      0.00      0.00       0.0\n",
            "     3465000       0.00      0.00      0.00       0.0\n",
            "     3500000       0.00      0.00      0.00       3.0\n",
            "     3570000       0.00      0.00      0.00       0.0\n",
            "     3605000       0.00      0.00      0.00       0.0\n",
            "     3640000       0.00      0.00      0.00       1.0\n",
            "     3675000       0.00      0.00      0.00       1.0\n",
            "     3703000       0.00      0.00      0.00       1.0\n",
            "     3710000       0.00      0.00      0.00       1.0\n",
            "     3773000       0.00      0.00      0.00       1.0\n",
            "     3780000       0.00      0.00      0.00       1.0\n",
            "     3836000       0.00      0.00      0.00       0.0\n",
            "     3850000       0.00      0.00      0.00       1.0\n",
            "     3885000       0.00      0.00      0.00       0.0\n",
            "     3990000       0.00      0.00      0.00       0.0\n",
            "     4007500       0.00      0.00      0.00       1.0\n",
            "     4025000       0.00      0.00      0.00       0.0\n",
            "     4060000       0.00      0.00      0.00       1.0\n",
            "     4165000       0.00      0.00      0.00       1.0\n",
            "     4193000       0.00      0.00      0.00       2.0\n",
            "     4200000       0.00      0.00      0.00       1.0\n",
            "     4270000       0.00      0.00      0.00       1.0\n",
            "     4340000       0.00      0.00      0.00       2.0\n",
            "     4403000       0.00      0.00      0.00       0.0\n",
            "     4473000       0.00      0.00      0.00       0.0\n",
            "     4480000       0.00      0.00      0.00       1.0\n",
            "     4515000       0.00      0.00      0.00       0.0\n",
            "     4543000       0.00      0.00      0.00       1.0\n",
            "     4550000       0.00      0.00      0.00       2.0\n",
            "     4585000       0.00      0.00      0.00       0.0\n",
            "     4620000       0.00      0.00      0.00       0.0\n",
            "     4690000       0.00      0.00      0.00       1.0\n",
            "     4753000       0.00      0.00      0.00       1.0\n",
            "     4830000       0.00      0.00      0.00       1.0\n",
            "     4900000       0.00      0.00      0.00       3.0\n",
            "     4907000       0.00      0.00      0.00       1.0\n",
            "     4970000       0.00      0.00      0.00       0.0\n",
            "     5110000       0.00      0.00      0.00       2.0\n",
            "     5145000       0.00      0.00      0.00       1.0\n",
            "     5250000       0.00      0.00      0.00       2.0\n",
            "     5425000       0.00      0.00      0.00       1.0\n",
            "     5460000       0.00      0.00      0.00       0.0\n",
            "     5495000       0.00      0.00      0.00       1.0\n",
            "     5530000       0.00      0.00      0.00       2.0\n",
            "     5600000       0.00      0.00      0.00       2.0\n",
            "     5740000       0.00      0.00      0.00       2.0\n",
            "     5775000       0.00      0.00      0.00       0.0\n",
            "     5810000       0.00      0.00      0.00       1.0\n",
            "     5950000       0.00      0.00      0.00       1.0\n",
            "     6125000       0.00      0.00      0.00       0.0\n",
            "     6160000       0.00      0.00      0.00       0.0\n",
            "     6195000       0.00      0.00      0.00       1.0\n",
            "     6230000       0.00      0.00      0.00       1.0\n",
            "     6300000       0.00      0.00      0.00       0.0\n",
            "     6440000       0.00      0.00      0.00       2.0\n",
            "     6510000       0.00      0.00      0.00       2.0\n",
            "     6580000       0.00      0.00      0.00       1.0\n",
            "     6615000       0.00      0.00      0.00       1.0\n",
            "     6650000       0.00      0.00      0.00       5.0\n",
            "     6685000       0.00      0.00      0.00       1.0\n",
            "     6720000       0.00      0.00      0.00       1.0\n",
            "     6790000       0.00      0.00      0.00       1.0\n",
            "     6860000       0.00      0.00      0.00       1.0\n",
            "     7000000       0.00      0.00      0.00       0.0\n",
            "     7035000       0.00      0.00      0.00       1.0\n",
            "     7140000       0.00      0.00      0.00       0.0\n",
            "     7210000       0.00      0.00      0.00       0.0\n",
            "     7350000       0.00      0.00      0.00       2.0\n",
            "     7420000       0.00      0.00      0.00       0.0\n",
            "     7560000       0.00      0.00      0.00       0.0\n",
            "     7700000       0.00      0.00      0.00       0.0\n",
            "     7840000       0.00      0.00      0.00       0.0\n",
            "     7910000       0.00      0.00      0.00       1.0\n",
            "     8190000       0.00      0.00      0.00       1.0\n",
            "     8295000       0.00      0.00      0.00       0.0\n",
            "     8400000       0.00      0.00      0.00       1.0\n",
            "     8575000       0.00      0.00      0.00       0.0\n",
            "     8645000       0.00      0.00      0.00       1.0\n",
            "     8890000       0.00      0.00      0.00       1.0\n",
            "     9100000       0.00      0.00      0.00       1.0\n",
            "     9310000       0.00      0.00      0.00       0.0\n",
            "     9681000       0.00      0.00      0.00       1.0\n",
            "     9800000       0.00      0.00      0.00       2.0\n",
            "    10150000       0.00      0.00      0.00       1.0\n",
            "    12215000       0.00      0.00      0.00       0.0\n",
            "    12250000       0.00      0.00      0.00       1.0\n",
            "    13300000       0.00      0.00      0.00       1.0\n",
            "\n",
            "    accuracy                           0.00     109.0\n",
            "   macro avg       0.00      0.00      0.00     109.0\n",
            "weighted avg       0.00      0.00      0.00     109.0\n",
            "\n"
          ]
        },
        {
          "name": "stderr",
          "output_type": "stream",
          "text": [
            "/usr/local/lib/python3.10/dist-packages/sklearn/metrics/_classification.py:1471: UndefinedMetricWarning: Precision and F-score are ill-defined and being set to 0.0 in labels with no predicted samples. Use `zero_division` parameter to control this behavior.\n",
            "  _warn_prf(average, modifier, msg_start, len(result))\n",
            "/usr/local/lib/python3.10/dist-packages/sklearn/metrics/_classification.py:1471: UndefinedMetricWarning: Recall and F-score are ill-defined and being set to 0.0 in labels with no true samples. Use `zero_division` parameter to control this behavior.\n",
            "  _warn_prf(average, modifier, msg_start, len(result))\n",
            "/usr/local/lib/python3.10/dist-packages/sklearn/metrics/_classification.py:1471: UndefinedMetricWarning: Precision and F-score are ill-defined and being set to 0.0 in labels with no predicted samples. Use `zero_division` parameter to control this behavior.\n",
            "  _warn_prf(average, modifier, msg_start, len(result))\n",
            "/usr/local/lib/python3.10/dist-packages/sklearn/metrics/_classification.py:1471: UndefinedMetricWarning: Recall and F-score are ill-defined and being set to 0.0 in labels with no true samples. Use `zero_division` parameter to control this behavior.\n",
            "  _warn_prf(average, modifier, msg_start, len(result))\n",
            "/usr/local/lib/python3.10/dist-packages/sklearn/metrics/_classification.py:1471: UndefinedMetricWarning: Precision and F-score are ill-defined and being set to 0.0 in labels with no predicted samples. Use `zero_division` parameter to control this behavior.\n",
            "  _warn_prf(average, modifier, msg_start, len(result))\n",
            "/usr/local/lib/python3.10/dist-packages/sklearn/metrics/_classification.py:1471: UndefinedMetricWarning: Recall and F-score are ill-defined and being set to 0.0 in labels with no true samples. Use `zero_division` parameter to control this behavior.\n",
            "  _warn_prf(average, modifier, msg_start, len(result))\n"
          ]
        }
      ],
      "source": [
        "from sklearn.ensemble import RandomForestClassifier\n",
        "\n",
        "# Assuming you have a classification model trained and data prepared:\n",
        "trained_classifier = RandomForestClassifier(random_state=42)\n",
        "trained_classifier.fit(X_train, y_train)\n",
        "\n",
        "evaluate_model(trained_classifier, X_test, y_test, model_type='classification')\n"
      ]
    },
    {
      "cell_type": "code",
      "execution_count": null,
      "metadata": {
        "colab": {
          "base_uri": "https://localhost:8080/"
        },
        "id": "Cx7Wg9vlxAIT",
        "outputId": "4fa1ee58-9360-4a58-fa66-28dfe7a93b3f"
      },
      "outputs": [
        {
          "name": "stdout",
          "output_type": "stream",
          "text": [
            "R² Score: 0.6119\n",
            "Mean Squared Error: 1961585044320.3433\n"
          ]
        }
      ],
      "source": [
        "from sklearn.ensemble import RandomForestRegressor\n",
        "\n",
        "# Assuming you have a regression model trained and data prepared:\n",
        "trained_regressor = RandomForestRegressor(random_state=42)\n",
        "trained_regressor.fit(X_train, y_train)\n",
        "\n",
        "evaluate_model(trained_regressor, X_test, y_test, model_type='regression')\n"
      ]
    }
  ],
  "metadata": {
    "colab": {
      "provenance": [],
      "authorship_tag": "ABX9TyNTA8C81NGsyCfkFbC4wqGH",
      "include_colab_link": true
    },
    "kernelspec": {
      "display_name": "Python 3",
      "name": "python3"
    },
    "language_info": {
      "name": "python"
    }
  },
  "nbformat": 4,
  "nbformat_minor": 0
}